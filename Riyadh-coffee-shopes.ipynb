{
 "cells": [
  {
   "cell_type": "markdown",
   "metadata": {},
   "source": [
    "<h1>Riyadh Coffee Shops"
   ]
  },
  {
   "cell_type": "markdown",
   "metadata": {},
   "source": [
    "_Auther: Mohammed Alosaimi_\n",
    "<hr>"
   ]
  },
  {
   "cell_type": "markdown",
   "metadata": {},
   "source": [
    "The motivation behind this project is to acquire data related to coffee shops in Riyadh city in Saudi Arabia. This data was obtained from Google search engine via web scraping. This data can be used for analysis and opportunity findings. However, the data is not enough for an efficient machine learning solution since there is a raw 200 records or less.\n",
    "\n",
    "- shop name\n",
    "- rating\n",
    "- number of ratings\n",
    "- price\n",
    "- shop type\n",
    "- key words\n",
    "- address\n",
    "- reviews\n",
    "<br><br>\n",
    "<hr>\n",
    "\n",
    "In this Jupyter Notebook, we are scrapping data from Google search engine using some powerful Python libraries, such as BeautifulSoup and selenium. The way we extract data from the web is through the Document Object Model of the web."
   ]
  },
  {
   "cell_type": "code",
   "execution_count": 1,
   "metadata": {},
   "outputs": [],
   "source": [
    "# import libraries\n",
    "import requests\n",
    "import pandas as pd\n",
    "import numpy as np\n",
    "from time import sleep\n",
    "from bs4 import BeautifulSoup\n",
    "import selenium\n",
    "import re"
   ]
  },
  {
   "cell_type": "code",
   "execution_count": 2,
   "metadata": {},
   "outputs": [],
   "source": [
    "# import web scraping libraries\n",
    "from bs4 import BeautifulSoup\n",
    "from selenium import webdriver\n",
    "from selenium.webdriver.common.keys import Keys"
   ]
  },
  {
   "cell_type": "code",
   "execution_count": 3,
   "metadata": {},
   "outputs": [],
   "source": [
    "# base url to visit\n",
    "base_url = 'https://www.google.com'"
   ]
  },
  {
   "cell_type": "code",
   "execution_count": 4,
   "metadata": {},
   "outputs": [],
   "source": [
    "# create a driver objet to start crawling\n",
    "driver = webdriver.Chrome(executable_path='./chromedriver/chromedriver')"
   ]
  },
  {
   "cell_type": "code",
   "execution_count": 5,
   "metadata": {},
   "outputs": [],
   "source": [
    "# open the desired url\n",
    "driver.get(base_url)"
   ]
  },
  {
   "cell_type": "code",
   "execution_count": 6,
   "metadata": {},
   "outputs": [],
   "source": [
    "# locat the input search bar\n",
    "input_location = driver.find_element_by_name('q')\n",
    "driver.implicitly_wait(10)  # wait for 10 seconds for the page to load\n",
    "# type the searched words\n",
    "input_location.send_keys('Riyadh Coffee shops')\n",
    "# hit enter\n",
    "input_location.send_keys(Keys.ENTER)\n",
    "driver.implicitly_wait(10)  # wait for 10 seconds for the page to load\n",
    "# click on more places to fetch more results\n",
    "driver.find_element_by_class_name('cMjHbjVt9AZ__button').click()\n",
    "driver.implicitly_wait(10)  # wait for 10 seconds for the page to load\n",
    "sleep(2)"
   ]
  },
  {
   "cell_type": "code",
   "execution_count": 7,
   "metadata": {},
   "outputs": [],
   "source": [
    "# get the page source\n",
    "page_source = driver.page_source"
   ]
  },
  {
   "cell_type": "code",
   "execution_count": 8,
   "metadata": {},
   "outputs": [],
   "source": [
    "# parse result as html\n",
    "soup = BeautifulSoup(page_source, 'html')"
   ]
  },
  {
   "cell_type": "code",
   "execution_count": 9,
   "metadata": {},
   "outputs": [],
   "source": [
    "# dataframe to store results\n",
    "df = pd.DataFrame(columns=['shop_name', 'rating', 'numbers_of_rating',\n",
    "                           'price', 'shop_type', 'key_words', 'address', 'reviews'])\n",
    "# instantiate lists for each column to append results to\n",
    "shop_names = []\n",
    "rating = []\n",
    "number_of_ratings = []\n",
    "price = []\n",
    "shop_types = []\n",
    "key_words = []\n",
    "address = []\n",
    "reviews = []"
   ]
  },
  {
   "cell_type": "code",
   "execution_count": 10,
   "metadata": {},
   "outputs": [],
   "source": [
    "# define a button for the next page\n",
    "for index, button in enumerate(range(14), 1):\n",
    "\n",
    "    sleep(2)\n",
    "    driver.implicitly_wait(10)\n",
    "    # loop through the tag where the shop name is located\n",
    "    for i in soup.findAll('div', {'role': 'heading', 'aria-level': '3', 'class': 'dbg0pd'}):\n",
    "\n",
    "        try:  # try and find shop names under the span tag\n",
    "\n",
    "            # append shope names to the shop_names list\n",
    "            shop_names.append(i.div.span.text)\n",
    "\n",
    "        except:  # except if there is no shop name and append nan instead\n",
    "            shop_names.append(i.div.text)\n",
    "\n",
    "    # loop through the span tag which has the rest of the shop details\n",
    "    for i in soup.findAll('span', {'class': 'rllt__details lqhpac'}):\n",
    "\n",
    "        try:  # try and find shop rating in a span tag\n",
    "\n",
    "            rating.append(i.find('div').find('span', {'class': 'BTtC6e'}).text)\n",
    "\n",
    "            # if there is rating, then there exists number of ratings as well\n",
    "            if i.find('div').text.split()[1].strip('()')[0].isdigit():\n",
    "\n",
    "                number_of_ratings.append(\n",
    "                    i.find('div').text.split()[1].strip('()'))\n",
    "\n",
    "            else:  # if element content doesn't contain digit, then append nan\n",
    "\n",
    "                number_of_ratings.append(np.nan)\n",
    "\n",
    "        except:  # except if there is no rating and append nan instead\n",
    "\n",
    "            rating.append(np.nan)\n",
    "            number_of_ratings.append(np.nan)\n",
    "\n",
    "        try:  # try and find the price details of the shop\n",
    "\n",
    "            if '$' in i.find('div').text.split('·')[1].strip():\n",
    "\n",
    "                price.append(i.find('div').text.split('·')[-2].strip())\n",
    "\n",
    "            else:  # if element content doesn't contain dollar sign, then append nan\n",
    "\n",
    "                price.append(np.nan)  # append nan if nor result was found\n",
    "\n",
    "        except:  # except clause, no result was found, then append nan\n",
    "            price.append(np.nan)\n",
    "\n",
    "        try:  # try clause, find shop types in a certain element\n",
    "            shop_types.append(i.find('div').text.split('·')[-1].strip())\n",
    "\n",
    "        except:  # except clause, no result was found, then append nan\n",
    "            shop_types.append(np.nan)\n",
    "\n",
    "        try:  # try clause, find key words - cosy, casual, etc\n",
    "\n",
    "            key_words.append(\n",
    "                i.find('div', {'class': 'tlDDJd'}).text.replace('\\xa0·\\xa0', ', '))\n",
    "\n",
    "        except:  # except clause if can not find key words, append nan\n",
    "            key_words.append(np.nan)\n",
    "\n",
    "    # address of the shop\n",
    "    for single_item in driver.find_elements_by_class_name('VkpGBb'):\n",
    "\n",
    "        try:  # try clause to fetch data from a single shop\n",
    "\n",
    "            sleep(4)  # sleep for four seconds\n",
    "            driver.implicitly_wait(15)  # wait 15 seconds for the page to load\n",
    "            single_item.click()  # click on a single shop at a time\n",
    "            sleep(2)  # sleep for two seconds\n",
    "            # wait for 10 seconds for the page to load\n",
    "            driver.implicitly_wait(10)  # wait 10 seconds for the page to load\n",
    "            page_source = driver.page_source  # get the page source\n",
    "            sleep(2)  # sleep for two seconds\n",
    "            soup = BeautifulSoup(page_source, 'html')  # parse result as html\n",
    "            sleep(2)\n",
    "\n",
    "            try:  # try and find the address\n",
    "                # append address of the shop to the address list\n",
    "                address.append(soup.find_all('div', {\n",
    "                               'data-attrid': 'kc:/location/location:address'})[0].find_all('span')[1].text)\n",
    "\n",
    "            except:  # no address found, so append nan\n",
    "                address.append(np.nan)\n",
    "\n",
    "            try:  # try clause to find review of a single shop\n",
    "\n",
    "                dummy_list = []  # instantiate a list holder\n",
    "\n",
    "                # loop through the some reviews for each shop\n",
    "                for review in soup.find_all('div', {'class': 'Jtu6Td'}):\n",
    "\n",
    "                    if review.text != '':  # check if the fetched result are not empty\n",
    "                        # append review to reviews list\n",
    "                        dummy_list.append(review.text)\n",
    "                    else:\n",
    "                        # append nan to dummy list\n",
    "                        dummy_list.append(np.nan)\n",
    "                # exit the loop, then append dummy list to reviews list\n",
    "                reviews.append(dummy_list)\n",
    "\n",
    "            except:  # no review found, so append nan\n",
    "                reviews.append(np.nan)\n",
    "\n",
    "        except:  # except clause if cannot fetch shop details\n",
    "            address.append(np.nan)\n",
    "            reviews.append(np.nan)\n",
    "\n",
    "    sleep(2)  # sleep for two seconds\n",
    "\n",
    "    # update the pages element since the session changes everytime we click on the next page\n",
    "    buttons = driver.find_elements_by_class_name('fl')\n",
    "\n",
    "    try:  # try clause: to find the next page button\n",
    "        buttons[index].click()  # click on the next page\n",
    "        sleep(2)  # sleep for 2 seconds\n",
    "        driver.implicitly_wait(10)  # wait for 10 seconds for the page to load\n",
    "\n",
    "        page_source = driver.page_source  # get the page source\n",
    "\n",
    "        soup = BeautifulSoup(page_source, 'html')  # parse result as html\n",
    "\n",
    "    except:  # except clause if there is no further pages\n",
    "        exit(keep_kernel=True)"
   ]
  },
  {
   "cell_type": "code",
   "execution_count": 11,
   "metadata": {},
   "outputs": [],
   "source": [
    "# loop through the lists of results and append them rwo by row to the dataframe\n",
    "for index, i in enumerate(zip(shop_names, rating, number_of_ratings, price, shop_types, key_words, address, reviews)):\n",
    "    df.loc[index] = [i[0], i[1], i[2], i[3], i[4], i[5], i[6], i[7]]"
   ]
  },
  {
   "cell_type": "code",
   "execution_count": 13,
   "metadata": {},
   "outputs": [
    {
     "data": {
      "text/html": [
       "<div>\n",
       "<style scoped>\n",
       "    .dataframe tbody tr th:only-of-type {\n",
       "        vertical-align: middle;\n",
       "    }\n",
       "\n",
       "    .dataframe tbody tr th {\n",
       "        vertical-align: top;\n",
       "    }\n",
       "\n",
       "    .dataframe thead th {\n",
       "        text-align: right;\n",
       "    }\n",
       "</style>\n",
       "<table border=\"1\" class=\"dataframe\">\n",
       "  <thead>\n",
       "    <tr style=\"text-align: right;\">\n",
       "      <th></th>\n",
       "      <th>shop_name</th>\n",
       "      <th>rating</th>\n",
       "      <th>numbers_of_rating</th>\n",
       "      <th>price</th>\n",
       "      <th>shop_type</th>\n",
       "      <th>key_words</th>\n",
       "      <th>address</th>\n",
       "      <th>reviews</th>\n",
       "    </tr>\n",
       "  </thead>\n",
       "  <tbody>\n",
       "    <tr>\n",
       "      <td>0</td>\n",
       "      <td>Elixir Bunn Coffee</td>\n",
       "      <td>4.3</td>\n",
       "      <td>218</td>\n",
       "      <td>NaN</td>\n",
       "      <td>Café</td>\n",
       "      <td>NaN</td>\n",
       "      <td>King Abdullah Rd, حي الحمراء، Riyadh 13215</td>\n",
       "      <td>['Amazing new branch for my favorite coffee ho...</td>\n",
       "    </tr>\n",
       "    <tr>\n",
       "      <td>1</td>\n",
       "      <td>Chamonix Cafe</td>\n",
       "      <td>4.0</td>\n",
       "      <td>563</td>\n",
       "      <td>$$$</td>\n",
       "      <td>Coffee shop</td>\n",
       "      <td>Late-night food, Breakfast, Outdoor seating</td>\n",
       "      <td>9259 Wadi Al Awsat, Al nbsp;2430, Riyadh</td>\n",
       "      <td>['Its really romantic and lovely place with go...</td>\n",
       "    </tr>\n",
       "    <tr>\n",
       "      <td>2</td>\n",
       "      <td>dr.CAFE COFFEE</td>\n",
       "      <td>4.1</td>\n",
       "      <td>1,571</td>\n",
       "      <td>$$</td>\n",
       "      <td>Coffee shop</td>\n",
       "      <td>Cosy, Casual, Vegetarian options</td>\n",
       "      <td>As Sulimaniyah, Khurais Road Abi Al Arab Stree...</td>\n",
       "      <td>[\"Sandwich wasn't tasty and it was expensive. ...</td>\n",
       "    </tr>\n",
       "    <tr>\n",
       "      <td>3</td>\n",
       "      <td>The Shaky</td>\n",
       "      <td>3.9</td>\n",
       "      <td>52</td>\n",
       "      <td>NaN</td>\n",
       "      <td>Coffee shop</td>\n",
       "      <td>Cosy, Casual, Groups</td>\n",
       "      <td>لوكاليزر مول بوابة رقم 7 طريق الأمير محمد بن ع...</td>\n",
       "      <td>['Nice place', \"It's delicious you can build y...</td>\n",
       "    </tr>\n",
       "    <tr>\n",
       "      <td>4</td>\n",
       "      <td>قرمز كافيه - قهوة مختصة</td>\n",
       "      <td>4.1</td>\n",
       "      <td>956</td>\n",
       "      <td>$$</td>\n",
       "      <td>Coffee shop</td>\n",
       "      <td>Cosy, Casual, Groups</td>\n",
       "      <td>2659 Dammam Branch Road Al Yarmuk Riyadh 13243...</td>\n",
       "      <td>['This coffee shop is a two story shop with a ...</td>\n",
       "    </tr>\n",
       "  </tbody>\n",
       "</table>\n",
       "</div>"
      ],
      "text/plain": [
       "                 shop_name  rating numbers_of_rating price    shop_type  \\\n",
       "0      Elixir Bunn Coffee      4.3               218   NaN         Café   \n",
       "1            Chamonix Cafe     4.0               563   $$$  Coffee shop   \n",
       "2           dr.CAFE COFFEE     4.1             1,571    $$  Coffee shop   \n",
       "3                The Shaky     3.9                52   NaN  Coffee shop   \n",
       "4  قرمز كافيه - قهوة مختصة     4.1               956    $$  Coffee shop   \n",
       "\n",
       "                                     key_words  \\\n",
       "0                                          NaN   \n",
       "1  Late-night food, Breakfast, Outdoor seating   \n",
       "2             Cosy, Casual, Vegetarian options   \n",
       "3                         Cosy, Casual, Groups   \n",
       "4                         Cosy, Casual, Groups   \n",
       "\n",
       "                                             address  \\\n",
       "0         King Abdullah Rd, حي الحمراء، Riyadh 13215   \n",
       "1           9259 Wadi Al Awsat, Al nbsp;2430, Riyadh   \n",
       "2  As Sulimaniyah, Khurais Road Abi Al Arab Stree...   \n",
       "3  لوكاليزر مول بوابة رقم 7 طريق الأمير محمد بن ع...   \n",
       "4  2659 Dammam Branch Road Al Yarmuk Riyadh 13243...   \n",
       "\n",
       "                                             reviews  \n",
       "0  ['Amazing new branch for my favorite coffee ho...  \n",
       "1  ['Its really romantic and lovely place with go...  \n",
       "2  [\"Sandwich wasn't tasty and it was expensive. ...  \n",
       "3  ['Nice place', \"It's delicious you can build y...  \n",
       "4  ['This coffee shop is a two story shop with a ...  "
      ]
     },
     "execution_count": 13,
     "metadata": {},
     "output_type": "execute_result"
    }
   ],
   "source": [
    "# print the head of the dataframe\n",
    "df.head()"
   ]
  },
  {
   "cell_type": "code",
   "execution_count": 14,
   "metadata": {},
   "outputs": [
    {
     "data": {
      "text/plain": [
       "(198, 8)"
      ]
     },
     "execution_count": 14,
     "metadata": {},
     "output_type": "execute_result"
    }
   ],
   "source": [
    "# print the shape of the dataframe\n",
    "df.shape"
   ]
  },
  {
   "cell_type": "code",
   "execution_count": 15,
   "metadata": {},
   "outputs": [
    {
     "data": {
      "text/plain": [
       "shop_name             object\n",
       "rating               float64\n",
       "numbers_of_rating     object\n",
       "price                 object\n",
       "shop_type             object\n",
       "key_words             object\n",
       "address               object\n",
       "reviews               object\n",
       "dtype: object"
      ]
     },
     "execution_count": 15,
     "metadata": {},
     "output_type": "execute_result"
    }
   ],
   "source": [
    "# print columns datatype\n",
    "df.dtypes"
   ]
  },
  {
   "cell_type": "code",
   "execution_count": 16,
   "metadata": {},
   "outputs": [],
   "source": [
    "# save the dataframe as a csv file\n",
    "df.to_csv('riyad_coffee_shops.csv')"
   ]
  },
  {
   "cell_type": "markdown",
   "metadata": {},
   "source": [
    "> After the data has been saved as a csv file, we will load it again to do some cleaning as this might be obvious since some rows are missing data and data types are not appropriate for its values"
   ]
  },
  {
   "cell_type": "code",
   "execution_count": 17,
   "metadata": {},
   "outputs": [],
   "source": [
    "# load in the data\n",
    "df = pd.read_csv('riyad_coffee_shops.csv', index_col=0)"
   ]
  },
  {
   "cell_type": "code",
   "execution_count": 18,
   "metadata": {},
   "outputs": [
    {
     "data": {
      "text/html": [
       "<div>\n",
       "<style scoped>\n",
       "    .dataframe tbody tr th:only-of-type {\n",
       "        vertical-align: middle;\n",
       "    }\n",
       "\n",
       "    .dataframe tbody tr th {\n",
       "        vertical-align: top;\n",
       "    }\n",
       "\n",
       "    .dataframe thead th {\n",
       "        text-align: right;\n",
       "    }\n",
       "</style>\n",
       "<table border=\"1\" class=\"dataframe\">\n",
       "  <thead>\n",
       "    <tr style=\"text-align: right;\">\n",
       "      <th></th>\n",
       "      <th>shop_name</th>\n",
       "      <th>rating</th>\n",
       "      <th>numbers_of_rating</th>\n",
       "      <th>price</th>\n",
       "      <th>shop_type</th>\n",
       "      <th>key_words</th>\n",
       "      <th>address</th>\n",
       "      <th>reviews</th>\n",
       "    </tr>\n",
       "  </thead>\n",
       "  <tbody>\n",
       "    <tr>\n",
       "      <td>0</td>\n",
       "      <td>Elixir Bunn Coffee</td>\n",
       "      <td>4.3</td>\n",
       "      <td>218</td>\n",
       "      <td>NaN</td>\n",
       "      <td>Café</td>\n",
       "      <td>NaN</td>\n",
       "      <td>King Abdullah Rd, حي الحمراء، Riyadh 13215</td>\n",
       "      <td>['Amazing new branch for my favorite coffee ho...</td>\n",
       "    </tr>\n",
       "    <tr>\n",
       "      <td>1</td>\n",
       "      <td>Chamonix Cafe</td>\n",
       "      <td>4.0</td>\n",
       "      <td>563</td>\n",
       "      <td>$$$</td>\n",
       "      <td>Coffee shop</td>\n",
       "      <td>Late-night food, Breakfast, Outdoor seating</td>\n",
       "      <td>9259 Wadi Al Awsat, Al nbsp;2430, Riyadh</td>\n",
       "      <td>['Its really romantic and lovely place with go...</td>\n",
       "    </tr>\n",
       "    <tr>\n",
       "      <td>2</td>\n",
       "      <td>dr.CAFE COFFEE</td>\n",
       "      <td>4.1</td>\n",
       "      <td>1,571</td>\n",
       "      <td>$$</td>\n",
       "      <td>Coffee shop</td>\n",
       "      <td>Cosy, Casual, Vegetarian options</td>\n",
       "      <td>As Sulimaniyah, Khurais Road Abi Al Arab Stree...</td>\n",
       "      <td>[\"Sandwich wasn't tasty and it was expensive. ...</td>\n",
       "    </tr>\n",
       "    <tr>\n",
       "      <td>3</td>\n",
       "      <td>The Shaky</td>\n",
       "      <td>3.9</td>\n",
       "      <td>52</td>\n",
       "      <td>NaN</td>\n",
       "      <td>Coffee shop</td>\n",
       "      <td>Cosy, Casual, Groups</td>\n",
       "      <td>لوكاليزر مول بوابة رقم 7 طريق الأمير محمد بن ع...</td>\n",
       "      <td>['Nice place', \"It's delicious you can build y...</td>\n",
       "    </tr>\n",
       "    <tr>\n",
       "      <td>4</td>\n",
       "      <td>قرمز كافيه - قهوة مختصة</td>\n",
       "      <td>4.1</td>\n",
       "      <td>956</td>\n",
       "      <td>$$</td>\n",
       "      <td>Coffee shop</td>\n",
       "      <td>Cosy, Casual, Groups</td>\n",
       "      <td>2659 Dammam Branch Road Al Yarmuk Riyadh 13243...</td>\n",
       "      <td>['This coffee shop is a two story shop with a ...</td>\n",
       "    </tr>\n",
       "  </tbody>\n",
       "</table>\n",
       "</div>"
      ],
      "text/plain": [
       "                 shop_name  rating numbers_of_rating price    shop_type  \\\n",
       "0      Elixir Bunn Coffee      4.3               218   NaN         Café   \n",
       "1            Chamonix Cafe     4.0               563   $$$  Coffee shop   \n",
       "2           dr.CAFE COFFEE     4.1             1,571    $$  Coffee shop   \n",
       "3                The Shaky     3.9                52   NaN  Coffee shop   \n",
       "4  قرمز كافيه - قهوة مختصة     4.1               956    $$  Coffee shop   \n",
       "\n",
       "                                     key_words  \\\n",
       "0                                          NaN   \n",
       "1  Late-night food, Breakfast, Outdoor seating   \n",
       "2             Cosy, Casual, Vegetarian options   \n",
       "3                         Cosy, Casual, Groups   \n",
       "4                         Cosy, Casual, Groups   \n",
       "\n",
       "                                             address  \\\n",
       "0         King Abdullah Rd, حي الحمراء، Riyadh 13215   \n",
       "1           9259 Wadi Al Awsat, Al nbsp;2430, Riyadh   \n",
       "2  As Sulimaniyah, Khurais Road Abi Al Arab Stree...   \n",
       "3  لوكاليزر مول بوابة رقم 7 طريق الأمير محمد بن ع...   \n",
       "4  2659 Dammam Branch Road Al Yarmuk Riyadh 13243...   \n",
       "\n",
       "                                             reviews  \n",
       "0  ['Amazing new branch for my favorite coffee ho...  \n",
       "1  ['Its really romantic and lovely place with go...  \n",
       "2  [\"Sandwich wasn't tasty and it was expensive. ...  \n",
       "3  ['Nice place', \"It's delicious you can build y...  \n",
       "4  ['This coffee shop is a two story shop with a ...  "
      ]
     },
     "execution_count": 18,
     "metadata": {},
     "output_type": "execute_result"
    }
   ],
   "source": [
    "# print the head\n",
    "df.head()"
   ]
  },
  {
   "cell_type": "code",
   "execution_count": 19,
   "metadata": {},
   "outputs": [],
   "source": [
    "# change the data type of numbers_of_rating to integer\n",
    "def to_int(x):\n",
    "    try:\n",
    "        return int(x.replace(',', ''))\n",
    "    except:\n",
    "        return 0\n",
    "    \n",
    "df.numbers_of_rating = df.numbers_of_rating.map(to_int)"
   ]
  },
  {
   "cell_type": "code",
   "execution_count": 20,
   "metadata": {},
   "outputs": [],
   "source": [
    "# map the values of the price column to numeric values\n",
    "price_map_values = {np.nan:0, '$':1, '$$':2, '$$$':3}\n",
    "df.price.replace(price_map_values, inplace=True)"
   ]
  },
  {
   "cell_type": "code",
   "execution_count": 21,
   "metadata": {},
   "outputs": [
    {
     "data": {
      "text/html": [
       "<div>\n",
       "<style scoped>\n",
       "    .dataframe tbody tr th:only-of-type {\n",
       "        vertical-align: middle;\n",
       "    }\n",
       "\n",
       "    .dataframe tbody tr th {\n",
       "        vertical-align: top;\n",
       "    }\n",
       "\n",
       "    .dataframe thead th {\n",
       "        text-align: right;\n",
       "    }\n",
       "</style>\n",
       "<table border=\"1\" class=\"dataframe\">\n",
       "  <thead>\n",
       "    <tr style=\"text-align: right;\">\n",
       "      <th></th>\n",
       "      <th>shop_name</th>\n",
       "      <th>rating</th>\n",
       "      <th>numbers_of_rating</th>\n",
       "      <th>price</th>\n",
       "      <th>shop_type</th>\n",
       "      <th>key_words</th>\n",
       "      <th>address</th>\n",
       "      <th>reviews</th>\n",
       "    </tr>\n",
       "  </thead>\n",
       "  <tbody>\n",
       "    <tr>\n",
       "      <td>0</td>\n",
       "      <td>Elixir Bunn Coffee</td>\n",
       "      <td>4.3</td>\n",
       "      <td>218</td>\n",
       "      <td>0</td>\n",
       "      <td>Café</td>\n",
       "      <td>NaN</td>\n",
       "      <td>King Abdullah Rd, حي الحمراء، Riyadh 13215</td>\n",
       "      <td>['Amazing new branch for my favorite coffee ho...</td>\n",
       "    </tr>\n",
       "    <tr>\n",
       "      <td>1</td>\n",
       "      <td>Chamonix Cafe</td>\n",
       "      <td>4.0</td>\n",
       "      <td>563</td>\n",
       "      <td>3</td>\n",
       "      <td>Coffee shop</td>\n",
       "      <td>Late-night food, Breakfast, Outdoor seating</td>\n",
       "      <td>9259 Wadi Al Awsat, Al nbsp;2430, Riyadh</td>\n",
       "      <td>['Its really romantic and lovely place with go...</td>\n",
       "    </tr>\n",
       "    <tr>\n",
       "      <td>2</td>\n",
       "      <td>dr.CAFE COFFEE</td>\n",
       "      <td>4.1</td>\n",
       "      <td>1571</td>\n",
       "      <td>2</td>\n",
       "      <td>Coffee shop</td>\n",
       "      <td>Cosy, Casual, Vegetarian options</td>\n",
       "      <td>As Sulimaniyah, Khurais Road Abi Al Arab Stree...</td>\n",
       "      <td>[\"Sandwich wasn't tasty and it was expensive. ...</td>\n",
       "    </tr>\n",
       "    <tr>\n",
       "      <td>3</td>\n",
       "      <td>The Shaky</td>\n",
       "      <td>3.9</td>\n",
       "      <td>52</td>\n",
       "      <td>0</td>\n",
       "      <td>Coffee shop</td>\n",
       "      <td>Cosy, Casual, Groups</td>\n",
       "      <td>لوكاليزر مول بوابة رقم 7 طريق الأمير محمد بن ع...</td>\n",
       "      <td>['Nice place', \"It's delicious you can build y...</td>\n",
       "    </tr>\n",
       "    <tr>\n",
       "      <td>4</td>\n",
       "      <td>قرمز كافيه - قهوة مختصة</td>\n",
       "      <td>4.1</td>\n",
       "      <td>956</td>\n",
       "      <td>2</td>\n",
       "      <td>Coffee shop</td>\n",
       "      <td>Cosy, Casual, Groups</td>\n",
       "      <td>2659 Dammam Branch Road Al Yarmuk Riyadh 13243...</td>\n",
       "      <td>['This coffee shop is a two story shop with a ...</td>\n",
       "    </tr>\n",
       "  </tbody>\n",
       "</table>\n",
       "</div>"
      ],
      "text/plain": [
       "                 shop_name  rating  numbers_of_rating  price    shop_type  \\\n",
       "0      Elixir Bunn Coffee      4.3                218      0         Café   \n",
       "1            Chamonix Cafe     4.0                563      3  Coffee shop   \n",
       "2           dr.CAFE COFFEE     4.1               1571      2  Coffee shop   \n",
       "3                The Shaky     3.9                 52      0  Coffee shop   \n",
       "4  قرمز كافيه - قهوة مختصة     4.1                956      2  Coffee shop   \n",
       "\n",
       "                                     key_words  \\\n",
       "0                                          NaN   \n",
       "1  Late-night food, Breakfast, Outdoor seating   \n",
       "2             Cosy, Casual, Vegetarian options   \n",
       "3                         Cosy, Casual, Groups   \n",
       "4                         Cosy, Casual, Groups   \n",
       "\n",
       "                                             address  \\\n",
       "0         King Abdullah Rd, حي الحمراء، Riyadh 13215   \n",
       "1           9259 Wadi Al Awsat, Al nbsp;2430, Riyadh   \n",
       "2  As Sulimaniyah, Khurais Road Abi Al Arab Stree...   \n",
       "3  لوكاليزر مول بوابة رقم 7 طريق الأمير محمد بن ع...   \n",
       "4  2659 Dammam Branch Road Al Yarmuk Riyadh 13243...   \n",
       "\n",
       "                                             reviews  \n",
       "0  ['Amazing new branch for my favorite coffee ho...  \n",
       "1  ['Its really romantic and lovely place with go...  \n",
       "2  [\"Sandwich wasn't tasty and it was expensive. ...  \n",
       "3  ['Nice place', \"It's delicious you can build y...  \n",
       "4  ['This coffee shop is a two story shop with a ...  "
      ]
     },
     "execution_count": 21,
     "metadata": {},
     "output_type": "execute_result"
    }
   ],
   "source": [
    "df.head()"
   ]
  },
  {
   "cell_type": "code",
   "execution_count": 22,
   "metadata": {},
   "outputs": [
    {
     "name": "stderr",
     "output_type": "stream",
     "text": [
      "/opt/anaconda3/lib/python3.7/site-packages/ipykernel_launcher.py:2: SettingWithCopyWarning: \n",
      "A value is trying to be set on a copy of a slice from a DataFrame\n",
      "\n",
      "See the caveats in the documentation: http://pandas.pydata.org/pandas-docs/stable/user_guide/indexing.html#returning-a-view-versus-a-copy\n",
      "  \n",
      "/opt/anaconda3/lib/python3.7/site-packages/ipykernel_launcher.py:3: SettingWithCopyWarning: \n",
      "A value is trying to be set on a copy of a slice from a DataFrame\n",
      "\n",
      "See the caveats in the documentation: http://pandas.pydata.org/pandas-docs/stable/user_guide/indexing.html#returning-a-view-versus-a-copy\n",
      "  This is separate from the ipykernel package so we can avoid doing imports until\n"
     ]
    }
   ],
   "source": [
    "# change duplicate values of the shop_type column\n",
    "df.shop_type[df.shop_type.str.contains('Coffee')] = 'coffee shop'\n",
    "df.shop_type[df.shop_type.str.contains('Caf')] = 'cafe'"
   ]
  },
  {
   "cell_type": "code",
   "execution_count": 23,
   "metadata": {},
   "outputs": [],
   "source": [
    "# replace the null values of the key words column to a string 'none'\n",
    "df.key_words.fillna('none', inplace=True)"
   ]
  },
  {
   "cell_type": "code",
   "execution_count": 24,
   "metadata": {},
   "outputs": [],
   "source": [
    "# save the dataframe as a csv file\n",
    "df.to_csv('riyad_coffee_shops_clean.csv')"
   ]
  },
  {
   "cell_type": "markdown",
   "metadata": {},
   "source": [
    "> You can find the clean data on [kaggle](https://www.kaggle.com/mohammedhalosaimi/riyadh-coffee-shops)"
   ]
  }
 ],
 "metadata": {
  "kernelspec": {
   "display_name": "Python 3",
   "language": "python",
   "name": "python3"
  },
  "language_info": {
   "codemirror_mode": {
    "name": "ipython",
    "version": 3
   },
   "file_extension": ".py",
   "mimetype": "text/x-python",
   "name": "python",
   "nbconvert_exporter": "python",
   "pygments_lexer": "ipython3",
   "version": "3.7.4"
  },
  "toc": {
   "base_numbering": 1,
   "nav_menu": {},
   "number_sections": true,
   "sideBar": true,
   "skip_h1_title": false,
   "title_cell": "Table of Contents",
   "title_sidebar": "Contents",
   "toc_cell": false,
   "toc_position": {},
   "toc_section_display": true,
   "toc_window_display": false
  },
  "varInspector": {
   "cols": {
    "lenName": 16,
    "lenType": 16,
    "lenVar": 40
   },
   "kernels_config": {
    "python": {
     "delete_cmd_postfix": "",
     "delete_cmd_prefix": "del ",
     "library": "var_list.py",
     "varRefreshCmd": "print(var_dic_list())"
    },
    "r": {
     "delete_cmd_postfix": ") ",
     "delete_cmd_prefix": "rm(",
     "library": "var_list.r",
     "varRefreshCmd": "cat(var_dic_list()) "
    }
   },
   "types_to_exclude": [
    "module",
    "function",
    "builtin_function_or_method",
    "instance",
    "_Feature"
   ],
   "window_display": false
  }
 },
 "nbformat": 4,
 "nbformat_minor": 2
}
